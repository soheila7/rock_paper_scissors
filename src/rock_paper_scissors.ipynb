{
 "cells": [
  {
   "cell_type": "code",
   "execution_count": 1,
   "metadata": {},
   "outputs": [],
   "source": [
    "import random\n",
    "\n",
    "\n",
    "class RockPaperScissors:\n",
    "    # get_player_choice\n",
    "    # get_computer_choice\n",
    "    # decide_winner\n",
    "    # play()\n",
    "    def __init__(self, name):\n",
    "        self.choices = [\"rock\", \"paper\", \"scissors\"]\n",
    "        self.player_name = name\n",
    "    \n",
    "    def get_player_choice(self):\n",
    "        user_choice = input(f\"Enter your choice ({self.choices}): \")\n",
    "        if user_choice.lower() in self.choices:\n",
    "            return user_choice.lower()\n",
    "        \n",
    "        print(f\"Invalid choice, you must select from {self.choices}\")\n",
    "        return self.get_player_choice()\n",
    "        \n",
    "    def get_computer_choice(self):\n",
    "        return random.choice(self.choices)\n",
    "    \n",
    "    def decide_winner(self, user_choice, computer_choice):\n",
    "        if user_choice == computer_choice:\n",
    "            return \"It's a Tie!\"\n",
    "        \n",
    "        win_combination = [(\"rock\", \"scissors\"),(\"paper\", \"rock\"),(\"scissors\", \"paper\")]\n",
    "        for win_comb in win_combination:\n",
    "            if (user_choice == win_comb[0]) & (computer_choice == win_comb[1]):\n",
    "                return \"Congratulationa! You won!\"\n",
    "            \n",
    "        return \"Oh no! The computer won!\"\n",
    "    \n",
    "    def play(self):\n",
    "        user_choice = self.get_player_choice()\n",
    "        computer_choice = self.get_computer_choice()\n",
    "        winner_msg = self.decide_winner(user_choice, computer_choice)\n",
    "        print(f\"computer choice: {computer_choice}\")\n",
    "        print(winner_msg)\n"
   ]
  },
  {
   "cell_type": "code",
   "execution_count": 2,
   "metadata": {},
   "outputs": [
    {
     "name": "stdout",
     "output_type": "stream",
     "text": [
      "computer choice: paper\n",
      "Oh no! The computer won!\n",
      "computer choice: scissors\n",
      "Congratulationa! You won!\n"
     ]
    }
   ],
   "source": [
    "game = RockPaperScissors(\"Ali\")\n",
    "while True:\n",
    "    game.play()\n",
    "    continue_game = input(\"Do you want to play again? (Enter any key to play again, enter q to exit!)\")\n",
    "    if continue_game.lower() == \"q\":\n",
    "        break"
   ]
  },
  {
   "cell_type": "code",
   "execution_count": null,
   "metadata": {},
   "outputs": [],
   "source": []
  }
 ],
 "metadata": {
  "kernelspec": {
   "display_name": "jupyterlab_environment",
   "language": "python",
   "name": "python3"
  },
  "language_info": {
   "codemirror_mode": {
    "name": "ipython",
    "version": 3
   },
   "file_extension": ".py",
   "mimetype": "text/x-python",
   "name": "python",
   "nbconvert_exporter": "python",
   "pygments_lexer": "ipython3",
   "version": "3.10.15"
  }
 },
 "nbformat": 4,
 "nbformat_minor": 2
}
